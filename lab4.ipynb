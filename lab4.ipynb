{
 "cells": [
  {
   "cell_type": "markdown",
   "id": "ec4a4ab3",
   "metadata": {},
   "source": [
    "# Lab 4\n",
    "# Extend ETL pipeline "
   ]
  },
  {
   "cell_type": "markdown",
   "id": "fd5d8caf",
   "metadata": {},
   "source": [
    "#### Imports"
   ]
  },
  {
   "cell_type": "code",
   "execution_count": 9,
   "id": "32f8509a",
   "metadata": {},
   "outputs": [],
   "source": [
    "import pandas as pd\n",
    "import numpy as np\n",
    "from datetime import datetime, timedelta\n",
    "import random\n",
    "import os "
   ]
  },
  {
   "cell_type": "markdown",
   "id": "f589143a",
   "metadata": {},
   "source": [
    "#### Loading data"
   ]
  },
  {
   "cell_type": "code",
   "execution_count": 10,
   "id": "a11cd008",
   "metadata": {},
   "outputs": [
    {
     "name": "stdout",
     "output_type": "stream",
     "text": [
      "Data file: custom_data.csv\n"
     ]
    }
   ],
   "source": [
    "DATA_FILE = 'custom_data.csv' # Your existing data file\n",
    "LAST_EXTRACTION_FILE = 'last_extraction.txt'\n",
    "OUTPUT_FULL_TRANSFORMED_FILENAME = 'transformed_full.csv'\n",
    "OUTPUT_INCREMENTAL_TRANSFORMED_FILENAME = 'transformed_incremental.csv'\n",
    "print(f\"Data file: {DATA_FILE}\")"
   ]
  },
  {
   "cell_type": "markdown",
   "id": "90d3626f",
   "metadata": {},
   "source": [
    "#### Full extraction"
   ]
  },
  {
   "cell_type": "code",
   "execution_count": 11,
   "id": "2eee310c",
   "metadata": {},
   "outputs": [
    {
     "name": "stdout",
     "output_type": "stream",
     "text": [
      "Number of rows: 338\n",
      "Number of columns: 10\n",
      "   record_id transaction_date transaction_timestamp customer_name  \\\n",
      "0          1       2025-04-01   2025-04-01T17:49:57        Costco   \n",
      "1          2       2025-04-01   2025-04-01T10:36:18         Apple   \n",
      "2          3       2025-04-01   2025-04-01T17:16:47        Target   \n",
      "3          4       2025-04-01   2025-04-01T18:15:48        Costco   \n",
      "4          5       2025-04-01   2025-04-01T02:37:35        Amazon   \n",
      "\n",
      "  product_category   amount  quantity payment_method last_updated_timestamp  \\\n",
      "0      Electronics   929.94         1         PayPal    2025-04-01T18:49:57   \n",
      "1        Groceries   130.17         4         PayPal    2025-04-01T12:59:18   \n",
      "2       Home Goods  1333.76         8    Credit Card    2025-04-01T18:19:47   \n",
      "3            Tools  1115.54         9         PayPal    2025-04-01T20:41:48   \n",
      "4         Software   633.14         6    Credit Card    2025-04-01T03:35:35   \n",
      "\n",
      "      status  \n",
      "0    Pending  \n",
      "1  Cancelled  \n",
      "2    Pending  \n",
      "3  Cancelled  \n",
      "4  Cancelled  \n",
      "<class 'pandas.core.frame.DataFrame'>\n",
      "RangeIndex: 338 entries, 0 to 337\n",
      "Data columns (total 10 columns):\n",
      " #   Column                  Non-Null Count  Dtype  \n",
      "---  ------                  --------------  -----  \n",
      " 0   record_id               338 non-null    int64  \n",
      " 1   transaction_date        338 non-null    object \n",
      " 2   transaction_timestamp   338 non-null    object \n",
      " 3   customer_name           338 non-null    object \n",
      " 4   product_category        338 non-null    object \n",
      " 5   amount                  338 non-null    float64\n",
      " 6   quantity                338 non-null    int64  \n",
      " 7   payment_method          338 non-null    object \n",
      " 8   last_updated_timestamp  338 non-null    object \n",
      " 9   status                  338 non-null    object \n",
      "dtypes: float64(1), int64(2), object(7)\n",
      "memory usage: 26.5+ KB\n",
      "None\n",
      "\n",
      "Extracted 338 rows fully.\n"
     ]
    }
   ],
   "source": [
    "\n",
    "df_full_extraction = pd.DataFrame() # Initialize an empty DataFrame\n",
    "\n",
    "try:\n",
    "    if os.path.exists(DATA_FILE):\n",
    "        df_full_extraction = pd.read_csv(DATA_FILE)\n",
    "        print(f\"Number of rows: {df_full_extraction.shape[0]}\")\n",
    "        print(f\"Number of columns: {df_full_extraction.shape[1]}\")\n",
    "        print(df_full_extraction.head())\n",
    "        print(df_full_extraction.info())\n",
    "\n",
    "        print(f\"\\nExtracted {df_full_extraction.shape[0]} rows fully.\")\n",
    "    else:\n",
    "        print(f\"Error: The file '{DATA_FILE}' was not found\")\n",
    "\n",
    "except Exception as e:\n",
    "    print(f\"An error occurred during full extraction: {e}\")"
   ]
  },
  {
   "cell_type": "markdown",
   "id": "bec8dea7",
   "metadata": {},
   "source": [
    "### Incremental extraction"
   ]
  },
  {
   "cell_type": "code",
   "execution_count": 12,
   "id": "1374a487",
   "metadata": {},
   "outputs": [
    {
     "name": "stdout",
     "output_type": "stream",
     "text": [
      "Last extraction timestamp: 2025-06-09 20:56:34.567175\n",
      "\n",
      "Extracted 0 rows incrementally since last check (2025-06-09 20:56:34.567175).\n",
      "No new or updated records found.\n"
     ]
    }
   ],
   "source": [
    "def get_last_extraction_timestamp(file_path):\n",
    "    if os.path.exists(file_path):\n",
    "        with open(file_path, 'r') as f:\n",
    "            try:\n",
    "                timestamp_str = f.read().strip()\n",
    "                if timestamp_str:\n",
    "                    return datetime.fromisoformat(timestamp_str)\n",
    "                else:\n",
    "                    return datetime.min \n",
    "            except ValueError:\n",
    "                return datetime.min \n",
    "    else:\n",
    "        return datetime.min \n",
    "\n",
    "last_extraction_time = get_last_extraction_timestamp(LAST_EXTRACTION_FILE)\n",
    "print(f\"Last extraction timestamp: {last_extraction_time}\")\n",
    "\n",
    "df_incremental_extraction = pd.DataFrame() \n",
    "\n",
    "try:\n",
    "    if not df_full_extraction.empty: \n",
    "        df_full_extraction['last_updated_timestamp'] = pd.to_datetime(df_full_extraction['last_updated_timestamp'], errors='coerce')\n",
    "        df_current_data_valid_timestamps = df_full_extraction.dropna(subset=['last_updated_timestamp'])\n",
    "\n",
    "        df_incremental_extraction = df_current_data_valid_timestamps[\n",
    "            df_current_data_valid_timestamps['last_updated_timestamp'] > last_extraction_time\n",
    "        ].copy() \n",
    "\n",
    "        print(f\"\\nExtracted {df_incremental_extraction.shape[0]} rows incrementally since last check ({last_extraction_time}).\")\n",
    "\n",
    "        if not df_incremental_extraction.empty:\n",
    "            print(\"\\nIncremental data extracted (first 5 rows):\")\n",
    "            print(df_incremental_extraction.head())\n",
    "        else:\n",
    "            print(\"No new or updated records found.\")\n",
    "    else:\n",
    "        print(\"Full extraction DataFrame is empty, cannot perform incremental extraction.\")\n",
    "\n",
    "except Exception as e:\n",
    "    print(f\"An error occurred during incremental extraction: {e}\")"
   ]
  },
  {
   "cell_type": "markdown",
   "id": "465ca651",
   "metadata": {},
   "source": [
    "## Transformations"
   ]
  },
  {
   "cell_type": "markdown",
   "id": "c969135d",
   "metadata": {},
   "source": [
    "#### cleaning data\n",
    "- Cleans the dataset by handling missing values and removing duplicates."
   ]
  },
  {
   "cell_type": "code",
   "execution_count": 3,
   "id": "6cf4946b",
   "metadata": {},
   "outputs": [],
   "source": [
    "def clean_data(df):\n",
    "    df = df.drop_duplicates()\n",
    "    df.fillna({\n",
    "        'quantity': df['quantity'].median(),\n",
    "        'unit_price': df['unit_price'].mean()\n",
    "    }, inplace=True)\n",
    "    return df"
   ]
  },
  {
   "cell_type": "markdown",
   "id": "3949fd9f",
   "metadata": {},
   "source": [
    "#### Enriching data\n",
    "- adding calculated columns"
   ]
  },
  {
   "cell_type": "code",
   "execution_count": 4,
   "id": "9594a2e4",
   "metadata": {},
   "outputs": [],
   "source": [
    "def enrich_data(df):\n",
    "    df['total_price'] = df['quantity'] * df['unit_price']\n",
    "    df['contribution_pct'] = (df['total_price'] / df['total_price'].sum()) * 100\n",
    "    return df"
   ]
  },
  {
   "cell_type": "markdown",
   "id": "eaa5af71",
   "metadata": {},
   "source": [
    "#### Structuring data\n",
    "- Standardizing data formats and types."
   ]
  },
  {
   "cell_type": "code",
   "execution_count": 5,
   "id": "ac006f3e",
   "metadata": {},
   "outputs": [],
   "source": [
    "def structure_data(df):\n",
    "    df['date'] = pd.to_datetime(df['date'], errors='coerce').dt.strftime('%Y-%m-%d')\n",
    "    df['quantity'] = df['quantity'].astype(int)\n",
    "    df.rename(columns={'unit_price': 'price_per_unit'}, inplace=True)\n",
    "    return df"
   ]
  },
  {
   "cell_type": "markdown",
   "id": "b118b812",
   "metadata": {},
   "source": [
    "### Transforming FULL DATA"
   ]
  },
  {
   "cell_type": "code",
   "execution_count": 8,
   "id": "cd6f5328",
   "metadata": {},
   "outputs": [
    {
     "name": "stdout",
     "output_type": "stream",
     "text": [
      "Columns in full_data: Index(['id', 'customer', 'date', 'amount', 'last_updated'], dtype='object')\n",
      "Columns in incremental_data: Index(['record_id', 'transaction_date', 'transaction_timestamp',\n",
      "       'customer_name', 'product_category', 'amount', 'quantity',\n",
      "       'payment_method', 'last_updated_timestamp', 'status'],\n",
      "      dtype='object')\n",
      "Warning: 'quantity' column not found in full_data. Please check the dataset.\n",
      "Warning: 'unit_price' column not found in full_data. Please check the dataset.\n",
      "Transforming Full Data...\n",
      "Required columns for cleaning are missing.\n",
      "Error during full data transformation: 'quantity'\n",
      "Transforming Incremental Data...\n",
      "Required columns for cleaning are missing.\n",
      "Error during incremental data transformation: 'unit_price'\n"
     ]
    }
   ],
   "source": [
    "# Debugging: Print column names to verify\n",
    "print(\"Columns in full_data:\", full_data.columns)\n",
    "print(\"Columns in incremental_data:\", incremental_data.columns)\n",
    "\n",
    "# Adjust column names if needed (case sensitivity or alternate names)\n",
    "if 'quantity' not in full_data.columns:\n",
    "    print(\"Warning: 'quantity' column not found in full_data. Please check the dataset.\")\n",
    "if 'unit_price' not in full_data.columns:\n",
    "    print(\"Warning: 'unit_price' column not found in full_data. Please check the dataset.\")\n",
    "\n",
    "# Example of handling missing columns\n",
    "def clean_data(df):\n",
    "    \"\"\"Cleans the dataset by handling missing values and removing duplicates.\"\"\"\n",
    "    df = df.drop_duplicates()\n",
    "    \n",
    "    # Check if 'quantity' and 'unit_price' exist before processing\n",
    "    if 'quantity' in df.columns and 'unit_price' in df.columns:\n",
    "        df.fillna({\n",
    "            'quantity': df['quantity'].median(),\n",
    "            'unit_price': df['unit_price'].mean()\n",
    "        }, inplace=True)\n",
    "    else:\n",
    "        print(\"Required columns for cleaning are missing.\")\n",
    "    \n",
    "    return df\n",
    "\n",
    "# Continue with the transformations\n",
    "try:\n",
    "    print(\"Transforming Full Data...\")\n",
    "    transformed_full = clean_data(full_data)\n",
    "    transformed_full = enrich_data(transformed_full)\n",
    "    transformed_full = structure_data(transformed_full)\n",
    "    transformed_full.to_csv('transformed_full.csv', index=False)\n",
    "    print(\"Full data transformation completed.\")\n",
    "except Exception as e:\n",
    "    print(f\"Error during full data transformation: {e}\")\n",
    "\n",
    "try:\n",
    "    print(\"Transforming Incremental Data...\")\n",
    "    transformed_incremental = clean_data(incremental_data)\n",
    "    transformed_incremental = enrich_data(transformed_incremental)\n",
    "    transformed_incremental = structure_data(transformed_incremental)\n",
    "    transformed_incremental.to_csv('transformed_incremental.csv', index=False)\n",
    "    print(\"Incremental data transformation completed.\")\n",
    "except Exception as e:\n",
    "    print(f\"Error during incremental data transformation: {e}\")\n"
   ]
  },
  {
   "cell_type": "markdown",
   "id": "927558a6",
   "metadata": {},
   "source": [
    "### Transforming INCREMENTAL DATA"
   ]
  },
  {
   "cell_type": "code",
   "execution_count": 7,
   "id": "1d05622a",
   "metadata": {},
   "outputs": [
    {
     "name": "stdout",
     "output_type": "stream",
     "text": [
      "Transforming Incremental Data...\n"
     ]
    },
    {
     "ename": "KeyError",
     "evalue": "'unit_price'",
     "output_type": "error",
     "traceback": [
      "\u001b[0;31m---------------------------------------------------------------------------\u001b[0m",
      "\u001b[0;31mKeyError\u001b[0m                                  Traceback (most recent call last)",
      "File \u001b[0;32m~/anaconda3/lib/python3.11/site-packages/pandas/core/indexes/base.py:3802\u001b[0m, in \u001b[0;36mIndex.get_loc\u001b[0;34m(self, key, method, tolerance)\u001b[0m\n\u001b[1;32m   3801\u001b[0m \u001b[38;5;28;01mtry\u001b[39;00m:\n\u001b[0;32m-> 3802\u001b[0m     \u001b[38;5;28;01mreturn\u001b[39;00m \u001b[38;5;28mself\u001b[39m\u001b[38;5;241m.\u001b[39m_engine\u001b[38;5;241m.\u001b[39mget_loc(casted_key)\n\u001b[1;32m   3803\u001b[0m \u001b[38;5;28;01mexcept\u001b[39;00m \u001b[38;5;167;01mKeyError\u001b[39;00m \u001b[38;5;28;01mas\u001b[39;00m err:\n",
      "File \u001b[0;32m~/anaconda3/lib/python3.11/site-packages/pandas/_libs/index.pyx:138\u001b[0m, in \u001b[0;36mpandas._libs.index.IndexEngine.get_loc\u001b[0;34m()\u001b[0m\n",
      "File \u001b[0;32m~/anaconda3/lib/python3.11/site-packages/pandas/_libs/index.pyx:165\u001b[0m, in \u001b[0;36mpandas._libs.index.IndexEngine.get_loc\u001b[0;34m()\u001b[0m\n",
      "File \u001b[0;32mpandas/_libs/hashtable_class_helper.pxi:5745\u001b[0m, in \u001b[0;36mpandas._libs.hashtable.PyObjectHashTable.get_item\u001b[0;34m()\u001b[0m\n",
      "File \u001b[0;32mpandas/_libs/hashtable_class_helper.pxi:5753\u001b[0m, in \u001b[0;36mpandas._libs.hashtable.PyObjectHashTable.get_item\u001b[0;34m()\u001b[0m\n",
      "\u001b[0;31mKeyError\u001b[0m: 'unit_price'",
      "\nThe above exception was the direct cause of the following exception:\n",
      "\u001b[0;31mKeyError\u001b[0m                                  Traceback (most recent call last)",
      "Cell \u001b[0;32mIn[7], line 2\u001b[0m\n\u001b[1;32m      1\u001b[0m \u001b[38;5;28mprint\u001b[39m(\u001b[38;5;124m\"\u001b[39m\u001b[38;5;124mTransforming Incremental Data...\u001b[39m\u001b[38;5;124m\"\u001b[39m)\n\u001b[0;32m----> 2\u001b[0m transformed_incremental \u001b[38;5;241m=\u001b[39m clean_data(incremental_data)\n\u001b[1;32m      3\u001b[0m transformed_incremental \u001b[38;5;241m=\u001b[39m enrich_data(transformed_incremental)\n\u001b[1;32m      4\u001b[0m transformed_incremental \u001b[38;5;241m=\u001b[39m structure_data(transformed_incremental)\n",
      "Cell \u001b[0;32mIn[3], line 5\u001b[0m, in \u001b[0;36mclean_data\u001b[0;34m(df)\u001b[0m\n\u001b[1;32m      1\u001b[0m \u001b[38;5;28;01mdef\u001b[39;00m \u001b[38;5;21mclean_data\u001b[39m(df):\n\u001b[1;32m      2\u001b[0m     df \u001b[38;5;241m=\u001b[39m df\u001b[38;5;241m.\u001b[39mdrop_duplicates()\n\u001b[1;32m      3\u001b[0m     df\u001b[38;5;241m.\u001b[39mfillna({\n\u001b[1;32m      4\u001b[0m         \u001b[38;5;124m'\u001b[39m\u001b[38;5;124mquantity\u001b[39m\u001b[38;5;124m'\u001b[39m: df[\u001b[38;5;124m'\u001b[39m\u001b[38;5;124mquantity\u001b[39m\u001b[38;5;124m'\u001b[39m]\u001b[38;5;241m.\u001b[39mmedian(),\n\u001b[0;32m----> 5\u001b[0m         \u001b[38;5;124m'\u001b[39m\u001b[38;5;124munit_price\u001b[39m\u001b[38;5;124m'\u001b[39m: df[\u001b[38;5;124m'\u001b[39m\u001b[38;5;124munit_price\u001b[39m\u001b[38;5;124m'\u001b[39m]\u001b[38;5;241m.\u001b[39mmean()\n\u001b[1;32m      6\u001b[0m     }, inplace\u001b[38;5;241m=\u001b[39m\u001b[38;5;28;01mTrue\u001b[39;00m)\n\u001b[1;32m      7\u001b[0m     \u001b[38;5;28;01mreturn\u001b[39;00m df\n",
      "File \u001b[0;32m~/anaconda3/lib/python3.11/site-packages/pandas/core/frame.py:3807\u001b[0m, in \u001b[0;36mDataFrame.__getitem__\u001b[0;34m(self, key)\u001b[0m\n\u001b[1;32m   3805\u001b[0m \u001b[38;5;28;01mif\u001b[39;00m \u001b[38;5;28mself\u001b[39m\u001b[38;5;241m.\u001b[39mcolumns\u001b[38;5;241m.\u001b[39mnlevels \u001b[38;5;241m>\u001b[39m \u001b[38;5;241m1\u001b[39m:\n\u001b[1;32m   3806\u001b[0m     \u001b[38;5;28;01mreturn\u001b[39;00m \u001b[38;5;28mself\u001b[39m\u001b[38;5;241m.\u001b[39m_getitem_multilevel(key)\n\u001b[0;32m-> 3807\u001b[0m indexer \u001b[38;5;241m=\u001b[39m \u001b[38;5;28mself\u001b[39m\u001b[38;5;241m.\u001b[39mcolumns\u001b[38;5;241m.\u001b[39mget_loc(key)\n\u001b[1;32m   3808\u001b[0m \u001b[38;5;28;01mif\u001b[39;00m is_integer(indexer):\n\u001b[1;32m   3809\u001b[0m     indexer \u001b[38;5;241m=\u001b[39m [indexer]\n",
      "File \u001b[0;32m~/anaconda3/lib/python3.11/site-packages/pandas/core/indexes/base.py:3804\u001b[0m, in \u001b[0;36mIndex.get_loc\u001b[0;34m(self, key, method, tolerance)\u001b[0m\n\u001b[1;32m   3802\u001b[0m     \u001b[38;5;28;01mreturn\u001b[39;00m \u001b[38;5;28mself\u001b[39m\u001b[38;5;241m.\u001b[39m_engine\u001b[38;5;241m.\u001b[39mget_loc(casted_key)\n\u001b[1;32m   3803\u001b[0m \u001b[38;5;28;01mexcept\u001b[39;00m \u001b[38;5;167;01mKeyError\u001b[39;00m \u001b[38;5;28;01mas\u001b[39;00m err:\n\u001b[0;32m-> 3804\u001b[0m     \u001b[38;5;28;01mraise\u001b[39;00m \u001b[38;5;167;01mKeyError\u001b[39;00m(key) \u001b[38;5;28;01mfrom\u001b[39;00m \u001b[38;5;21;01merr\u001b[39;00m\n\u001b[1;32m   3805\u001b[0m \u001b[38;5;28;01mexcept\u001b[39;00m \u001b[38;5;167;01mTypeError\u001b[39;00m:\n\u001b[1;32m   3806\u001b[0m     \u001b[38;5;66;03m# If we have a listlike key, _check_indexing_error will raise\u001b[39;00m\n\u001b[1;32m   3807\u001b[0m     \u001b[38;5;66;03m#  InvalidIndexError. Otherwise we fall through and re-raise\u001b[39;00m\n\u001b[1;32m   3808\u001b[0m     \u001b[38;5;66;03m#  the TypeError.\u001b[39;00m\n\u001b[1;32m   3809\u001b[0m     \u001b[38;5;28mself\u001b[39m\u001b[38;5;241m.\u001b[39m_check_indexing_error(key)\n",
      "\u001b[0;31mKeyError\u001b[0m: 'unit_price'"
     ]
    }
   ],
   "source": [
    "print(\"Transforming Incremental Data...\")\n",
    "transformed_incremental = clean_data(incremental_data)\n",
    "transformed_incremental = enrich_data(transformed_incremental)\n",
    "transformed_incremental = structure_data(transformed_incremental)\n",
    "transformed_incremental.to_csv('transformed_incremental.csv', index=False)\n"
   ]
  },
  {
   "cell_type": "markdown",
   "id": "6cff7d85",
   "metadata": {},
   "source": [
    "### Transforming FULL DATA"
   ]
  },
  {
   "cell_type": "markdown",
   "id": "a5a85f1e",
   "metadata": {},
   "source": []
  }
 ],
 "metadata": {
  "kernelspec": {
   "display_name": "base",
   "language": "python",
   "name": "python3"
  },
  "language_info": {
   "codemirror_mode": {
    "name": "ipython",
    "version": 3
   },
   "file_extension": ".py",
   "mimetype": "text/x-python",
   "name": "python",
   "nbconvert_exporter": "python",
   "pygments_lexer": "ipython3",
   "version": "3.11.5"
  }
 },
 "nbformat": 4,
 "nbformat_minor": 5
}
